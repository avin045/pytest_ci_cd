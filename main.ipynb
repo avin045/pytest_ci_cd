{
 "cells": [
  {
   "cell_type": "code",
   "execution_count": 33,
   "metadata": {},
   "outputs": [],
   "source": [
    "from snowflake.snowpark import Session\n",
    "from snowflake.snowpark.dataframe import col\n",
    "import logging\n"
   ]
  },
  {
   "cell_type": "code",
   "execution_count": 34,
   "metadata": {},
   "outputs": [],
   "source": [
    "def setup_logger():\n",
    "    logger = logging.getLogger(__name__)\n",
    "    logger.setLevel(logging.INFO)  # Set the desired log level (INFO, DEBUG, ERROR, etc.)\n",
    "\n",
    "    # Create a log file handler to write log messages to a file\n",
    "    log_file = 'pytest.log'\n",
    "    file_handler = logging.FileHandler(log_file)\n",
    "    file_handler.setLevel(logging.INFO)  # Set log level for the file handler\n",
    "\n",
    "    # Create a console handler to print log messages to the console\n",
    "    console_handler = logging.StreamHandler()\n",
    "    console_handler.setLevel(logging.INFO)  # Set log level for the console handler\n",
    "\n",
    "    # Create a formatter to define the format of log messages\n",
    "    formatter = logging.Formatter('%(asctime)s - %(name)s - %(levelname)s - %(message)s')\n",
    "    file_handler.setFormatter(formatter)\n",
    "    console_handler.setFormatter(formatter)\n",
    "\n",
    "    # Add handlers to the logger\n",
    "    logger.addHandler(file_handler)\n",
    "    logger.addHandler(console_handler)\n",
    "\n",
    "    return logger\n",
    "\n",
    "logger = setup_logger()"
   ]
  },
  {
   "cell_type": "code",
   "execution_count": 45,
   "metadata": {},
   "outputs": [
    {
     "data": {
      "text/plain": [
       "['pytest.log']"
      ]
     },
     "execution_count": 45,
     "metadata": {},
     "output_type": "execute_result"
    }
   ],
   "source": [
    "import os\n",
    "\n",
    "path = './log_'\n",
    "os.listdir(path=path)"
   ]
  },
  {
   "cell_type": "code",
   "execution_count": 35,
   "metadata": {},
   "outputs": [],
   "source": [
    "user = 'leo'\n",
    "password = 'SnowFlakeTrial222222'\n",
    "account = 'woimctp-dw57998'\n",
    "warehouse='COMPUTE_WH'\n",
    "role = 'ACCOUNTADMIN'\n",
    "\n",
    "\n",
    "connection_parameters = {\n",
    "    \"user\": user,\n",
    "    \"password\" : password,\n",
    "    \"account\": account,\n",
    "    \"role\": role,\n",
    "    \"warehouse\": warehouse\n",
    " }\n",
    "\n",
    "session = Session.builder.configs(connection_parameters).create()"
   ]
  },
  {
   "cell_type": "code",
   "execution_count": 36,
   "metadata": {},
   "outputs": [],
   "source": [
    "session.use_database(database='HR_DB');\n",
    "session.use_schema(schema='HR_SCHEMA');\n",
    "session.use_warehouse(warehouse='COMPUTE_WH');\n",
    "\n",
    "file_path = r'./transformation_query/query.sql';\n",
    "file_content = open(file=file_path,mode='r+');\n",
    "query = file_content.read();"
   ]
  },
  {
   "cell_type": "code",
   "execution_count": 37,
   "metadata": {},
   "outputs": [
    {
     "name": "stdout",
     "output_type": "stream",
     "text": [
      "select \n",
      "SPLIT(TRIM(split(EMPLOYEE_NAME,',')[1]::varchar),' ')[0]::text as FIRSTNAME,TRIM(split(EMPLOYEE_NAME,',')[0]::varchar) as LASTNAME,\n",
      "-- EMPLOYEE_NAME,\n",
      "EMPID,SALARY,POSITION,STATE,ZIP,DOB,SEX,DATEOFHIRE,DATEOFTERMINATION,EMPLOYMENTSTATUS,DEPARTMENT,MANAGERNAME,RECRUITMENTSOURCE,PERFORMANCESCORE,LASTPERFORMANCEREVIEW_DATE \n",
      "from hr_schema.employee_copy_tbl;\n"
     ]
    }
   ],
   "source": [
    "print(query)"
   ]
  },
  {
   "cell_type": "code",
   "execution_count": 41,
   "metadata": {},
   "outputs": [],
   "source": [
    "src = session.sql(query=query.replace(';',''));\n",
    "target = session.table(name='HR_SCHEMA.EMPLOYEE_DETAILS_DYNAMIC');\n",
    "\n",
    "# print(src,target)\n",
    "\n",
    "# INPUT for Getting COLUMNS LIST\n",
    "columns_list = input(\"Enter the column list with ',' seperated : \").split(',')\n",
    "list_of_cols = [col_.strip() for col_ in columns_list]"
   ]
  },
  {
   "cell_type": "code",
   "execution_count": 42,
   "metadata": {},
   "outputs": [
    {
     "data": {
      "text/plain": [
       "True"
      ]
     },
     "execution_count": 42,
     "metadata": {},
     "output_type": "execute_result"
    }
   ],
   "source": [
    "src.count() == target.count()"
   ]
  },
  {
   "cell_type": "code",
   "execution_count": 43,
   "metadata": {},
   "outputs": [
    {
     "name": "stderr",
     "output_type": "stream",
     "text": [
      "2023-10-21 09:22:50,201 - __main__ - INFO - DATA MISMATCH : PASSED\n",
      "2023-10-21 09:22:50,201 - __main__ - INFO - DATA MISMATCH : PASSED\n"
     ]
    }
   ],
   "source": [
    "mismatch_cols = []\n",
    "matched_cols = [tgt_col for src_col,tgt_col in zip(sorted(src.columns),sorted(target.columns)) if src_col == tgt_col]\n",
    "result = src.select(matched_cols).minus(target.select(matched_cols)).collect()\n",
    "log_res = 'PASSED' if not bool(result) == True else 'NOT PASSED'\n",
    "logger.info(f\"DATA MISMATCH : {log_res}\")\n",
    "assert not bool(result) == True,f\"The Mismatching count is {len(mismatch_cols)} \\n and the columns are {','.join(mismatch_cols)}\""
   ]
  },
  {
   "cell_type": "code",
   "execution_count": null,
   "metadata": {},
   "outputs": [],
   "source": []
  },
  {
   "cell_type": "code",
   "execution_count": null,
   "metadata": {},
   "outputs": [],
   "source": []
  },
  {
   "cell_type": "code",
   "execution_count": null,
   "metadata": {},
   "outputs": [],
   "source": []
  },
  {
   "cell_type": "code",
   "execution_count": null,
   "metadata": {},
   "outputs": [],
   "source": []
  },
  {
   "cell_type": "code",
   "execution_count": null,
   "metadata": {},
   "outputs": [],
   "source": []
  },
  {
   "cell_type": "code",
   "execution_count": null,
   "metadata": {},
   "outputs": [],
   "source": []
  },
  {
   "cell_type": "code",
   "execution_count": null,
   "metadata": {},
   "outputs": [],
   "source": []
  },
  {
   "cell_type": "code",
   "execution_count": null,
   "metadata": {},
   "outputs": [],
   "source": []
  }
 ],
 "metadata": {
  "kernelspec": {
   "display_name": "pytest_env",
   "language": "python",
   "name": "python3"
  },
  "language_info": {
   "codemirror_mode": {
    "name": "ipython",
    "version": 3
   },
   "file_extension": ".py",
   "mimetype": "text/x-python",
   "name": "python",
   "nbconvert_exporter": "python",
   "pygments_lexer": "ipython3",
   "version": "3.10.0"
  }
 },
 "nbformat": 4,
 "nbformat_minor": 2
}
